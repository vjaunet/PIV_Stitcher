{
 "cells": [
  {
   "cell_type": "code",
   "execution_count": 6,
   "metadata": {},
   "outputs": [
    {
     "name": "stdout",
     "output_type": "stream",
     "text": [
      "Camera1: alpha= 0.014658195519944836 Delta_y= [-0.09848463]\n",
      "Camera2: alpha= 0.2906649264661405 Delta_y= [1.08596081]\n",
      "Dx = [-4.74685569]\n",
      "(501, 1200)\n"
     ]
    },
    {
     "ename": "NameError",
     "evalue": "name 'dataRMS' is not defined",
     "output_type": "error",
     "traceback": [
      "\u001b[0;31m---------------------------------------------------------------------------\u001b[0m",
      "\u001b[0;31mNameError\u001b[0m                                 Traceback (most recent call last)",
      "\u001b[0;32m<ipython-input-6-2a594cebfe09>\u001b[0m in \u001b[0;36m<module>\u001b[0;34m\u001b[0m\n\u001b[1;32m     48\u001b[0m \u001b[0;34m\u001b[0m\u001b[0m\n\u001b[1;32m     49\u001b[0m \u001b[0mplt\u001b[0m\u001b[0;34m.\u001b[0m\u001b[0mfigure\u001b[0m\u001b[0;34m(\u001b[0m\u001b[0;34m)\u001b[0m\u001b[0;34m\u001b[0m\u001b[0;34m\u001b[0m\u001b[0m\n\u001b[0;32m---> 50\u001b[0;31m \u001b[0mplt\u001b[0m\u001b[0;34m.\u001b[0m\u001b[0mcontourf\u001b[0m\u001b[0;34m(\u001b[0m\u001b[0mdataRMS\u001b[0m\u001b[0;34m[\u001b[0m\u001b[0;34m'U'\u001b[0m\u001b[0;34m]\u001b[0m\u001b[0;34m[\u001b[0m\u001b[0;34m:\u001b[0m\u001b[0;34m,\u001b[0m\u001b[0;34m:\u001b[0m\u001b[0;34m]\u001b[0m\u001b[0;34m)\u001b[0m\u001b[0;34m\u001b[0m\u001b[0;34m\u001b[0m\u001b[0m\n\u001b[0m\u001b[1;32m     51\u001b[0m \u001b[0;34m\u001b[0m\u001b[0m\n\u001b[1;32m     52\u001b[0m \u001b[0mplt\u001b[0m\u001b[0;34m.\u001b[0m\u001b[0mfigure\u001b[0m\u001b[0;34m(\u001b[0m\u001b[0;34m)\u001b[0m\u001b[0;34m\u001b[0m\u001b[0;34m\u001b[0m\u001b[0m\n",
      "\u001b[0;31mNameError\u001b[0m: name 'dataRMS' is not defined"
     ]
    },
    {
     "data": {
      "image/png": "[encoded data removed]",
      "text/plain": [
       "<Figure size 432x288 with 1 Axes>"
      ]
     },
     "metadata": {
      "needs_background": "light"
     },
     "output_type": "display_data"
    },
    {
     "data": {
      "text/plain": [
       "<Figure size 432x288 with 0 Axes>"
      ]
     },
     "metadata": {},
     "output_type": "display_data"
    }
   ],
   "source": [
    "#!/usr/local/bin/python3\n",
    "#\n",
    "# Stitching des fichiers moyennes de davis\n",
    "#\n",
    "# usage :./main_stitch_meanPIV.py --fin ../DATA_Davis/Ma1080\n",
    "#                                 --fout DATA_Stitched\n",
    "#                                 --Mj 1.080\n",
    "#\n",
    "#\n",
    "##########################################################\n",
    "\n",
    "import argparse\n",
    "\n",
    "import importlib\n",
    "import pivFunctions\n",
    "importlib.reload(pivFunctions)\n",
    "\n",
    "from scipy.io  import loadmat\n",
    "import numpy as np\n",
    "\n",
    "from glob import glob\n",
    "import re\n",
    "\n",
    "##############################################@@@@@@@@\n",
    "def Mj_NPR(NPR):\n",
    "    g=1.4\n",
    "    return (2.0/(g-1)*(NPR**((g-1)/g)-1))**0.5\n",
    "\n",
    "def Uj_Mj(Mj,T0=293):\n",
    "    g=1.4\n",
    "    R=287\n",
    "    return np.sqrt(g*R*T0/(1. + (g-1.)/2.*Mj**2))*Mj\n",
    "\n",
    "#################################################@@@@\n",
    "\n",
    "\n",
    "#== Reorganize the mean PIV fields to get the interpolation grid\n",
    "folderAvg = 'DATA_ORI/'\n",
    "stitchGrid_dict = pivFunctions.create_StitchGrid(folderAvg+'/B00001_AvgV.vc7',1200,501)\n",
    "dataM = pivFunctions.stitchPIV(folderAvg+'/B00001_AvgV.vc7',stitchGrid_dict)\n",
    "\n",
    "print(dataM['U'].shape)\n",
    "\n",
    "\n",
    "## === Plot \n",
    "plt.figure()\n",
    "plt.contourf(dataM['U'][:,:])\n",
    "\n",
    "plt.figure()\n",
    "plt.contourf(dataM['U'][:,:])\n",
    "\n",
    "plt.figure()\n",
    "plt.plot(dataM['X'],dataM['U'][250,:])"
   ]
  },
  {
   "cell_type": "code",
   "execution_count": null,
   "metadata": {},
   "outputs": [],
   "source": []
  }
 ],
 "metadata": {
  "kernelspec": {
   "display_name": "Python 3",
   "language": "python",
   "name": "python3"
  },
  "language_info": {
   "codemirror_mode": {
    "name": "ipython",
    "version": 3
   },
   "file_extension": ".py",
   "mimetype": "text/x-python",
   "name": "python",
   "nbconvert_exporter": "python",
   "pygments_lexer": "ipython3",
   "version": "3.9.1"
  }
 },
 "nbformat": 4,
 "nbformat_minor": 4
}
